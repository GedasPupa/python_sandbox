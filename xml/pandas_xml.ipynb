{
 "cells": [
  {
   "cell_type": "code",
   "execution_count": 44,
   "metadata": {},
   "outputs": [
    {
     "data": {
      "text/html": [
       "<div>\n",
       "<style scoped>\n",
       "    .dataframe tbody tr th:only-of-type {\n",
       "        vertical-align: middle;\n",
       "    }\n",
       "\n",
       "    .dataframe tbody tr th {\n",
       "        vertical-align: top;\n",
       "    }\n",
       "\n",
       "    .dataframe thead th {\n",
       "        text-align: right;\n",
       "    }\n",
       "</style>\n",
       "<table border=\"1\" class=\"dataframe\">\n",
       "  <thead>\n",
       "    <tr style=\"text-align: right;\">\n",
       "      <th></th>\n",
       "      <th>name</th>\n",
       "      <th>major</th>\n",
       "      <th>age</th>\n",
       "    </tr>\n",
       "  </thead>\n",
       "  <tbody>\n",
       "    <tr>\n",
       "      <th>0</th>\n",
       "      <td>Alice</td>\n",
       "      <td>Computer Science</td>\n",
       "      <td>20</td>\n",
       "    </tr>\n",
       "    <tr>\n",
       "      <th>1</th>\n",
       "      <td>Bob</td>\n",
       "      <td>Philosophy</td>\n",
       "      <td>22</td>\n",
       "    </tr>\n",
       "    <tr>\n",
       "      <th>2</th>\n",
       "      <td>Mary</td>\n",
       "      <td>Biology</td>\n",
       "      <td>21</td>\n",
       "    </tr>\n",
       "  </tbody>\n",
       "</table>\n",
       "</div>"
      ],
      "text/plain": [
       "    name             major  age\n",
       "0  Alice  Computer Science   20\n",
       "1    Bob        Philosophy   22\n",
       "2   Mary           Biology   21"
      ]
     },
     "execution_count": 44,
     "metadata": {},
     "output_type": "execute_result"
    }
   ],
   "source": [
    "import pandas as pd\n",
    "df = pd.read_xml(r\"C:\\Users\\Jurate\\Documents\\Studijos\\PYTHON\\python_sandbox\\xml\\students.xml\")\n",
    "df"
   ]
  },
  {
   "cell_type": "code",
   "execution_count": 45,
   "metadata": {},
   "outputs": [],
   "source": [
    "xml = \"\"\"<?xml version='1.0' encoding='utf-8'?>\n",
    "<data>\n",
    "    <student>\n",
    "        <name>Alice</name>\n",
    "        <major>Computer Science</major>\n",
    "        <age>20</age>\n",
    "    </student>\n",
    "    <student>\n",
    "        <name>Bob</name>\n",
    "        <major>Philosophy</major>\n",
    "        <age>22</age>\n",
    "    </student>\n",
    "    <student>\n",
    "        <name>Mary</name>\n",
    "        <major>Biology</major>\n",
    "        <age>21</age>\n",
    "    </student>\n",
    "</data>\"\"\""
   ]
  },
  {
   "cell_type": "code",
   "execution_count": 46,
   "metadata": {},
   "outputs": [
    {
     "data": {
      "text/html": [
       "<div>\n",
       "<style scoped>\n",
       "    .dataframe tbody tr th:only-of-type {\n",
       "        vertical-align: middle;\n",
       "    }\n",
       "\n",
       "    .dataframe tbody tr th {\n",
       "        vertical-align: top;\n",
       "    }\n",
       "\n",
       "    .dataframe thead th {\n",
       "        text-align: right;\n",
       "    }\n",
       "</style>\n",
       "<table border=\"1\" class=\"dataframe\">\n",
       "  <thead>\n",
       "    <tr style=\"text-align: right;\">\n",
       "      <th></th>\n",
       "      <th>name</th>\n",
       "      <th>major</th>\n",
       "      <th>age</th>\n",
       "    </tr>\n",
       "  </thead>\n",
       "  <tbody>\n",
       "    <tr>\n",
       "      <th>0</th>\n",
       "      <td>Alice</td>\n",
       "      <td>Computer Science</td>\n",
       "      <td>20</td>\n",
       "    </tr>\n",
       "    <tr>\n",
       "      <th>1</th>\n",
       "      <td>Bob</td>\n",
       "      <td>Philosophy</td>\n",
       "      <td>22</td>\n",
       "    </tr>\n",
       "    <tr>\n",
       "      <th>2</th>\n",
       "      <td>Mary</td>\n",
       "      <td>Biology</td>\n",
       "      <td>21</td>\n",
       "    </tr>\n",
       "  </tbody>\n",
       "</table>\n",
       "</div>"
      ],
      "text/plain": [
       "    name             major  age\n",
       "0  Alice  Computer Science   20\n",
       "1    Bob        Philosophy   22\n",
       "2   Mary           Biology   21"
      ]
     },
     "execution_count": 46,
     "metadata": {},
     "output_type": "execute_result"
    }
   ],
   "source": [
    "df = pd.read_xml(xml)\n",
    "df"
   ]
  },
  {
   "cell_type": "code",
   "execution_count": 47,
   "metadata": {},
   "outputs": [
    {
     "data": {
      "text/html": [
       "<div>\n",
       "<style scoped>\n",
       "    .dataframe tbody tr th:only-of-type {\n",
       "        vertical-align: middle;\n",
       "    }\n",
       "\n",
       "    .dataframe tbody tr th {\n",
       "        vertical-align: top;\n",
       "    }\n",
       "\n",
       "    .dataframe thead th {\n",
       "        text-align: right;\n",
       "    }\n",
       "</style>\n",
       "<table border=\"1\" class=\"dataframe\">\n",
       "  <thead>\n",
       "    <tr style=\"text-align: right;\">\n",
       "      <th></th>\n",
       "      <th>name</th>\n",
       "      <th>major</th>\n",
       "      <th>age</th>\n",
       "    </tr>\n",
       "  </thead>\n",
       "  <tbody>\n",
       "    <tr>\n",
       "      <th>0</th>\n",
       "      <td>Alice</td>\n",
       "      <td>Computer Science</td>\n",
       "      <td>20</td>\n",
       "    </tr>\n",
       "    <tr>\n",
       "      <th>1</th>\n",
       "      <td>Bob</td>\n",
       "      <td>Philosophy</td>\n",
       "      <td>22</td>\n",
       "    </tr>\n",
       "    <tr>\n",
       "      <th>2</th>\n",
       "      <td>Mary</td>\n",
       "      <td>Biology</td>\n",
       "      <td>21</td>\n",
       "    </tr>\n",
       "  </tbody>\n",
       "</table>\n",
       "</div>"
      ],
      "text/plain": [
       "    name             major  age\n",
       "0  Alice  Computer Science   20\n",
       "1    Bob        Philosophy   22\n",
       "2   Mary           Biology   21"
      ]
     },
     "execution_count": 47,
     "metadata": {},
     "output_type": "execute_result"
    }
   ],
   "source": [
    "# alternative xml structure:\n",
    "xml = \"\"\"<?xml version='1.0' encoding='utf-8'?>\n",
    "            <data>\n",
    "                <student name = \"Alice\" major = \"Computer Science\" age = \"20\"/>\n",
    "                <student name = \"Bob\" major = \"Philosophy\" age = \"22\"/>\n",
    "                <student name = \"Mary\" major = \"Biology\" age = \"21\"/>\n",
    "            </data>\"\"\"\n",
    "\n",
    "df = pd.read_xml(xml, xpath=\".//student\")\n",
    "df\n"
   ]
  },
  {
   "cell_type": "code",
   "execution_count": 48,
   "metadata": {},
   "outputs": [
    {
     "name": "stdout",
     "output_type": "stream",
     "text": [
      "<?xml version='1.0' encoding='utf-8'?>\n",
      "<data>\n",
      "  <student>\n",
      "    <name>Alice</name>\n",
      "    <major>Computer Science</major>\n",
      "    <age>20</age>\n",
      "  </student>\n",
      "  <student>\n",
      "    <name>Bob</name>\n",
      "    <major>Philosophy</major>\n",
      "    <age>22</age>\n",
      "  </student>\n",
      "  <student>\n",
      "    <name>Mary</name>\n",
      "    <major>Biology</major>\n",
      "    <age>21</age>\n",
      "  </student>\n",
      "</data>\n"
     ]
    }
   ],
   "source": [
    "# df\n",
    "# print(df.to_xml())\n",
    "print(df.to_xml(row_name=\"student\", index=False))"
   ]
  },
  {
   "cell_type": "code",
   "execution_count": 49,
   "metadata": {},
   "outputs": [
    {
     "name": "stdout",
     "output_type": "stream",
     "text": [
      "<?xml version='1.0' encoding='utf-8'?>\n",
      "<data>\n",
      "  <student name=\"Alice\" major=\"Computer Science\" age=\"20\"/>\n",
      "  <student name=\"Bob\" major=\"Philosophy\" age=\"22\"/>\n",
      "  <student name=\"Mary\" major=\"Biology\" age=\"21\"/>\n",
      "</data>\n"
     ]
    }
   ],
   "source": [
    "print(df.to_xml(attr_cols=[\"name\", \"major\", \"age\"], index=False, row_name=\"student\"))"
   ]
  },
  {
   "cell_type": "code",
   "execution_count": 50,
   "metadata": {},
   "outputs": [],
   "source": [
    "data = df.to_xml(row_name=\"student\", index=False)\n",
    "\n",
    "with open(\"new_students_xml.xml\", \"w\") as file:\n",
    "    file.write(data)\n",
    "file.close()"
   ]
  }
 ],
 "metadata": {
  "interpreter": {
   "hash": "e0ee0ee65eeaccfdcfe75cafb3a6db7ae79708c9a30f24f75bf5e71891a5ef17"
  },
  "kernelspec": {
   "display_name": "Python 3.10.0 64-bit",
   "language": "python",
   "name": "python3"
  },
  "language_info": {
   "codemirror_mode": {
    "name": "ipython",
    "version": 3
   },
   "file_extension": ".py",
   "mimetype": "text/x-python",
   "name": "python",
   "nbconvert_exporter": "python",
   "pygments_lexer": "ipython3",
   "version": "3.9.7"
  },
  "orig_nbformat": 4
 },
 "nbformat": 4,
 "nbformat_minor": 2
}
